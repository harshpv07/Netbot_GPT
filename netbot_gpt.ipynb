{
 "cells": [
  {
   "cell_type": "code",
   "execution_count": 9,
   "metadata": {},
   "outputs": [],
   "source": [
    "import pandas as pd \n",
    "import numpy as np \n",
    "import json \n",
    "\n",
    "def convert_json_to_pandas(json_file):\n",
    "    with open(json_file , 'r') as f:\n",
    "        data = json.loads(f.read())  \n",
    "\n",
    "    data = pd.DataFrame(data) \n",
    "    return data \n",
    "\n",
    "dataset = (convert_json_to_pandas(\"dataset.json\"))"
   ]
  },
  {
   "cell_type": "code",
   "execution_count": 12,
   "metadata": {},
   "outputs": [
    {
     "name": "stdout",
     "output_type": "stream",
     "text": [
      "<class 'pandas.core.frame.DataFrame'>\n",
      "RangeIndex: 12 entries, 0 to 11\n",
      "Data columns (total 2 columns):\n",
      " #   Column  Non-Null Count  Dtype \n",
      "---  ------  --------------  ----- \n",
      " 0   input   12 non-null     object\n",
      " 1   output  12 non-null     object\n",
      "dtypes: object(2)\n",
      "memory usage: 320.0+ bytes\n"
     ]
    }
   ],
   "source": [
    "dataset.info()"
   ]
  },
  {
   "cell_type": "code",
   "execution_count": 8,
   "metadata": {},
   "outputs": [
    {
     "data": {
      "text/plain": [
       "FileObject(id='file-h5p9jtZuob5OC4Uj6zL5f9oE', bytes=8390, created_at=1708848602, filename='dataset.jsonl', object='file', purpose='fine-tune', status='processed', status_details=None)"
      ]
     },
     "execution_count": 8,
     "metadata": {},
     "output_type": "execute_result"
    }
   ],
   "source": [
    "import json \n",
    "import tiktoken \n",
    "import numpy as np \n",
    "from collections import defaultdict \n",
    "from openai import OpenAI  \n",
    "\n",
    "client = OpenAI()  \n",
    "data_path = \"dataset.jsonl\" \n",
    "\n",
    "client.files.create(\n",
    "    file = open(data_path , \"rb\"),\n",
    "    purpose = \"fine-tune\"\n",
    ")"
   ]
  },
  {
   "cell_type": "code",
   "execution_count": 9,
   "metadata": {},
   "outputs": [
    {
     "name": "stdout",
     "output_type": "stream",
     "text": [
      "FineTuningJob(id='ftjob-WJThUc7P6OVqpjuwFnmisjzA', created_at=1708848613, error=Error(code=None, message=None, param=None, error=None), fine_tuned_model=None, finished_at=None, hyperparameters=Hyperparameters(n_epochs='auto', batch_size='auto', learning_rate_multiplier='auto'), model='gpt-3.5-turbo-0613', object='fine_tuning.job', organization_id='org-UsdpYguwfednzoygFAArfOs1', result_files=[], status='validating_files', trained_tokens=None, training_file='file-h5p9jtZuob5OC4Uj6zL5f9oE', validation_file=None)\n"
     ]
    }
   ],
   "source": [
    "file_id = \"file-h5p9jtZuob5OC4Uj6zL5f9oE\"\n",
    "response = client.fine_tuning.jobs.create(\n",
    "  training_file=file_id, \n",
    "  model=\"gpt-3.5-turbo\"\n",
    ")\n",
    "print(response)"
   ]
  },
  {
   "cell_type": "code",
   "execution_count": 17,
   "metadata": {},
   "outputs": [
    {
     "name": "stdout",
     "output_type": "stream",
     "text": [
      "ChatCompletionMessage(content='Hello! How can I assist you today?', role='assistant', function_call=None, tool_calls=None)\n"
     ]
    }
   ],
   "source": [
    "from openai import OpenAI\n",
    "client = OpenAI()\n",
    "\n",
    "completion = client.chat.completions.create(\n",
    "  model=\"gpt-3.5-turbo-0613\",\n",
    "  messages=[\n",
    "    {\"role\": \"system\", \"content\": \"You are a helpful assistant.\"},\n",
    "    {\"role\": \"user\", \"content\": \"Hello!\"}\n",
    "  ]\n",
    ")\n",
    "print(completion.choices[0].message)"
   ]
  },
  {
   "cell_type": "code",
   "execution_count": 22,
   "metadata": {},
   "outputs": [
    {
     "name": "stdout",
     "output_type": "stream",
     "text": [
      "Choice(finish_reason='stop', index=0, logprobs=None, message=ChatCompletionMessage(content='enable, conf t, vlan 5, name security_vlan, conf t, interface Ethernet 0/1, switchport mode access, switchport access vlan 5', role='assistant', function_call=None, tool_calls=None))\n"
     ]
    }
   ],
   "source": [
    "completion = client.chat.completions.create(\n",
    "  model=\"ft:gpt-3.5-turbo-0613:personal::8vXs398Y\",\n",
    "  messages=[\n",
    "    {\"role\": \"system\", \"content\": \"Create a VLAN 5 named security_vlan on port 0/1\"}\n",
    "  ]\n",
    ")\n",
    "print(completion.choices[0])"
   ]
  },
  {
   "cell_type": "code",
   "execution_count": 11,
   "metadata": {},
   "outputs": [
    {
     "name": "stdout",
     "output_type": "stream",
     "text": [
      "{\n",
      "    \"messages\": [\n",
      "        {\n",
      "            \"role\": \"system\",\n",
      "            \"content\": \"Welcome to NetBot\"\n",
      "        },\n",
      "        {\n",
      "            \"role\": \"user\",\n",
      "            \"content\": \"Create a VLAN 7 named database on port 0/1\"\n",
      "        },\n",
      "        {\n",
      "            \"role\": \"assistant\",\n",
      "            \"content\": \"enable, conf t, vlan 7, name database, conf t, interface Ethernet 0/1, switchport mode access, switchport access vlan 7\"\n",
      "        },\n",
      "        {\n",
      "            \"role\": \"user\",\n",
      "            \"content\": \"Create a VLAN 10 named voice_vlan on port 0/3\"\n",
      "        },\n",
      "        {\n",
      "            \"role\": \"assistant\",\n",
      "            \"content\": \"enable, conf t, vlan 10, name voice_vlan, conf t, interface Ethernet 0/1, switchport mode access, switchport access vlan 10\"\n",
      "        },\n",
      "        {\n",
      "            \"role\": \"user\",\n",
      "            \"content\": \"Create a new VLAN 5 named control_vlan on port 0/1\"\n",
      "        },\n",
      "        {\n",
      "            \"role\": \"assistant\",\n",
      "            \"content\": \"enable, conf t, vlan 5, name control_vlan, conf t, interface Ethernet 0/1, switchport mode access, switchport access vlan 5\"\n",
      "        },\n",
      "        {\n",
      "            \"role\": \"user\",\n",
      "            \"content\": \"Establish a VLAN 5 named control_vlan on port 0/1\"\n",
      "        },\n",
      "        {\n",
      "            \"role\": \"assistant\",\n",
      "            \"content\": \"enable, conf t, vlan 5, name control_vlan, conf t, interface Ethernet 0/1, switchport mode access, switchport access vlan 5\"\n",
      "        },\n",
      "        {\n",
      "            \"role\": \"user\",\n",
      "            \"content\": \"Establish a VLAN 6 named sample_vlan on port 0/2\"\n",
      "        },\n",
      "        {\n",
      "            \"role\": \"assistant\",\n",
      "            \"content\": \"enable, conf t, vlan 6, name sample_vlan, conf t, interface Ethernet 0/2, switchport mode access, switchport access vlan 6\"\n",
      "        },\n",
      "        {\n",
      "            \"role\": \"user\",\n",
      "            \"content\": \"Establish a VLAN 6 named sample_vlan on ethernet port 0/2\"\n",
      "        },\n",
      "        {\n",
      "            \"role\": \"assistant\",\n",
      "            \"content\": \"enable, conf t, vlan 6, name sample_vlan, conf t, interface Ethernet 0/3, switchport mode access, switchport access vlan 7\"\n",
      "        },\n",
      "        {\n",
      "            \"role\": \"user\",\n",
      "            \"content\": \"Establish a VLAN 6 named sample_vlan on ethernet port 0/2\"\n",
      "        },\n",
      "        {\n",
      "            \"role\": \"assistant\",\n",
      "            \"content\": \"enable, conf t, vlan 6, name sample_vlan, conf t, interface Ethernet 0/3, switchport mode access, switchport access vlan 7\"\n",
      "        },\n",
      "        {\n",
      "            \"role\": \"user\",\n",
      "            \"content\": \"Assign IP address of 192.168.1.1 and subnet mask of 255.0.0.0 to port 0/1\"\n",
      "        },\n",
      "        {\n",
      "            \"role\": \"assistant\",\n",
      "            \"content\": \"enable, conf t, ethernet 0/1, ip address 192.168.1.1 255.0.0.0, no shutdown\"\n",
      "        },\n",
      "        {\n",
      "            \"role\": \"user\",\n",
      "            \"content\": \"Assign IP address of 192.168.1.2 and subnet mask of 255.255.0.0 to port 0/1\"\n",
      "        },\n",
      "        {\n",
      "            \"role\": \"assistant\",\n",
      "            \"content\": \"enable, conf t, ethernet 0/1, ip address 192.168.1.2 255.255.0.0, no shutdown\"\n",
      "        },\n",
      "        {\n",
      "            \"role\": \"user\",\n",
      "            \"content\": \"Assign IP address of 192.168.1.5 and subnet mask of 255.255.255.255 to port 0/3\"\n",
      "        },\n",
      "        {\n",
      "            \"role\": \"assistant\",\n",
      "            \"content\": \"enable, conf t, ethernet 0/3, ip address 192.168.1.5 255.255.255.255, no shutdown\"\n",
      "        },\n",
      "        {\n",
      "            \"role\": \"user\",\n",
      "            \"content\": \"Create a new port 0/1 with ip address of 192.168.0.4 255.255.0.0\"\n",
      "        },\n",
      "        {\n",
      "            \"role\": \"assistant\",\n",
      "            \"content\": \"enable, conf t, ethernet 0/1, ip address 192.168.0.4 255.255.0.0, no shutdown\"\n",
      "        },\n",
      "        {\n",
      "            \"role\": \"user\",\n",
      "            \"content\": \"Create a new port 0/1 with ip address of 192.168.0.4 255.255.0.0\"\n",
      "        },\n",
      "        {\n",
      "            \"role\": \"assistant\",\n",
      "            \"content\": \"enable, conf t, ethernet 0/1, ip address 192.168.0.4 255.255.0.0, no shutdown\"\n",
      "        },\n",
      "        {\n",
      "            \"role\": \"assistant\",\n",
      "            \"content\": \"Which site do you want me to apply to?\"\n",
      "        }\n",
      "    ]\n",
      "}\n"
     ]
    }
   ],
   "source": [
    "import json\n",
    "\n",
    "# Load the original data\n",
    "original_data = {\n",
    "    \"messages\": [\n",
    "        {\"input\": \"Create a VLAN 7 named database on port 0/1\" , \"output\" : \"enable, conf t, vlan 7, name database, conf t, interface Ethernet 0/1, switchport mode access, switchport access vlan 7\"},\n",
    "        {\"input\": \"Create a VLAN 10 named voice_vlan on port 0/3\" , \"output\" :  \"enable, conf t, vlan 10, name voice_vlan, conf t, interface Ethernet 0/1, switchport mode access, switchport access vlan 10\"},\n",
    "        {\"input\": \"Create a new VLAN 5 named control_vlan on port 0/1\" , \"output\" :  \"enable, conf t, vlan 5, name control_vlan, conf t, interface Ethernet 0/1, switchport mode access, switchport access vlan 5\"},\n",
    "        {\"input\": \"Establish a VLAN 5 named control_vlan on port 0/1\" , \"output\" : \"enable, conf t, vlan 5, name control_vlan, conf t, interface Ethernet 0/1, switchport mode access, switchport access vlan 5\"},\n",
    "        {\"input\": \"Establish a VLAN 6 named sample_vlan on port 0/2\" ,\"output\" : \"enable, conf t, vlan 6, name sample_vlan, conf t, interface Ethernet 0/2, switchport mode access, switchport access vlan 6\"},\n",
    "        {\"input\" : \"Establish a VLAN 6 named sample_vlan on ethernet port 0/2\" , \"output\" : \"enable, conf t, vlan 6, name sample_vlan, conf t, interface Ethernet 0/3, switchport mode access, switchport access vlan 7\"},\n",
    "        {\"input\" : \"Establish a VLAN 6 named sample_vlan on ethernet port 0/2\", \"output\" : \"enable, conf t, vlan 6, name sample_vlan, conf t, interface Ethernet 0/3, switchport mode access, switchport access vlan 7\"},\n",
    "        {\"input\" : \"Assign IP address of 192.168.1.1 and subnet mask of 255.0.0.0 to port 0/1\" , \"output\" : \"enable, conf t, ethernet 0/1, ip address 192.168.1.1 255.0.0.0, no shutdown\"},\n",
    "        {\"input\" : \"Assign IP address of 192.168.1.2 and subnet mask of 255.255.0.0 to port 0/1\" , \"output\" : \"enable, conf t, ethernet 0/1, ip address 192.168.1.2 255.255.0.0, no shutdown\"},\n",
    "        {\"input\" : \"Assign IP address of 192.168.1.5 and subnet mask of 255.255.255.255 to port 0/3\" , \"output\" : \"enable, conf t, ethernet 0/3, ip address 192.168.1.5 255.255.255.255, no shutdown\"},\n",
    "        {\"input\" : \"Create a new port 0/1 with ip address of 192.168.0.4 255.255.0.0\" , \"output\" : \"enable, conf t, ethernet 0/1, ip address 192.168.0.4 255.255.0.0, no shutdown\"},\n",
    "        {\"input\" : \"Create a new port 0/1 with ip address of 192.168.0.4 255.255.0.0\" , \"output\" : \"enable, conf t, ethernet 0/1, ip address 192.168.0.4 255.255.0.0, no shutdown\"}\n",
    "    ]\n",
    "}\n",
    "\n",
    "# Initialize an empty list to store the messages\n",
    "messages = []\n",
    "\n",
    "# Add system message\n",
    "messages.append({\"role\": \"system\", \"content\": \"Welcome to NetBot\"})\n",
    "\n",
    "# Loop through the original messages\n",
    "for message in original_data[\"messages\"]:\n",
    "    user_content = message[\"input\"]\n",
    "    assistant_content = message[\"output\"]\n",
    "    messages.append({\"role\": \"user\", \"content\": user_content})\n",
    "    messages.append({\"role\": \"assistant\", \"content\": assistant_content})\n",
    "\n",
    "# Add additional assistant message\n",
    "messages.append({\"role\": \"assistant\", \"content\": \"Which site do you want me to apply to?\"})\n",
    "\n",
    "# Construct the final dictionary\n",
    "final_data = {\"messages\": messages}\n",
    "\n",
    "# Convert the dictionary to JSON format\n",
    "json_result = json.dumps(final_data, indent=4)\n",
    "\n",
    "# Print the JSON result\n",
    "print(json_result)\n"
   ]
  },
  {
   "cell_type": "code",
   "execution_count": null,
   "metadata": {},
   "outputs": [],
   "source": []
  }
 ],
 "metadata": {
  "kernelspec": {
   "display_name": "Python 3",
   "language": "python",
   "name": "python3"
  },
  "language_info": {
   "codemirror_mode": {
    "name": "ipython",
    "version": 3
   },
   "file_extension": ".py",
   "mimetype": "text/x-python",
   "name": "python",
   "nbconvert_exporter": "python",
   "pygments_lexer": "ipython3",
   "version": "3.9.0"
  }
 },
 "nbformat": 4,
 "nbformat_minor": 2
}
